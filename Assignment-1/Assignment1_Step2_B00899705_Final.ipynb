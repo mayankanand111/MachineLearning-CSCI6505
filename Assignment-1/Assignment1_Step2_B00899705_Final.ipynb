{
  "cells": [
    {
      "cell_type": "markdown",
      "metadata": {
        "id": "L1k990UL55F-"
      },
      "source": [
        "# Step 2"
      ]
    },
    {
      "cell_type": "markdown",
      "metadata": {
        "id": "yM-9YT2Q55GA"
      },
      "source": [
        "In step 2 you will be using **Pytorch** to import MNIST, train a neural network on MNIST, find examples that \"fool\" that trained network, and, if you're a 6505 student, propose a way to deal with these examples."
      ]
    },
    {
      "cell_type": "code",
      "execution_count": 1,
      "metadata": {
        "id": "0uTfMeGr55GA"
      },
      "outputs": [],
      "source": [
        "import torch\n",
        "import torchvision\n",
        "import torch.nn as nn\n",
        "import torch.nn.functional as F\n",
        "from torch.utils.data import Dataset, DataLoader,random_split\n",
        "import matplotlib.pyplot as plt\n",
        "import numpy as np\n",
        "from PIL import Image as im\n",
        "\n"
      ]
    },
    {
      "cell_type": "code",
      "execution_count": 2,
      "metadata": {
        "id": "ZV41p8Wl55GB"
      },
      "outputs": [],
      "source": [
        "#hyperparameters\n",
        "batch_size = 64\n",
        "total_epochs = 10\n",
        "lr = 0.01\n",
        "epsilons = [0,0.05,0.15,0.25]"
      ]
    },
    {
      "cell_type": "markdown",
      "metadata": {
        "id": "e7WGOXQv55GB"
      },
      "source": [
        "## Question 1"
      ]
    },
    {
      "cell_type": "markdown",
      "metadata": {
        "id": "t-wJF2TV55GB"
      },
      "source": [
        "Start by importing both the training and testing MNIST datasets using DataLoaders and the torchvision provided datasets. You can set both the training and testing batch size to be whatever you feel is best."
      ]
    },
    {
      "cell_type": "code",
      "execution_count": 3,
      "metadata": {
        "colab": {
          "base_uri": "https://localhost:8080/",
          "height": 431,
          "referenced_widgets": [
            "5ba9bf581c7b4f80a942afe85fff1f6d",
            "e813d55d0053451c816f71843e47f98e",
            "23fee21d0df24a2c8af97f7a89d69edd",
            "0ce1910308f840f9b1ea2d70f76371d6",
            "99b1f011fb8b4e47a6b0f2233b4da74d",
            "87bc7efeb4084c08b80e689e12f48c35",
            "270416b6c34f44b1b851d78af12c1729",
            "5bbc91e9fc744f9e9a1b48f5867ccdd8",
            "b88711e41b1748b2b766f276e10cf6af",
            "869fe3ce8f1f424289f7afe73ebb926d",
            "7d7a7549cb054739b4e150ca2e72e552",
            "cdc01c944418492a8d5817dbbe339711",
            "e02115ed6e814bb79c29aa850ed39a76",
            "8d3d6d5c6d784d00a337942c9dafa762",
            "53d1902ff0234b2191eb077a11b51ea8",
            "862412bd69f14e9e92ec06925b596c74",
            "1ca22893556040609129bba50a602be9",
            "0e0899c9d636472096299b940cf53693",
            "f5c863ce50ec49348006f6115e07f662",
            "9aeb39989f654da68ba31ca7909c039d",
            "b82d89b5b1204725918e3a3e78d7d66b",
            "ef275d51f3bb44e3a5d1e445f90d32ed",
            "9fc5dc0e3ffc43eb90b70f1145902784",
            "ac19747f94cb4a099ff37623af6f9b20",
            "0111049446e14fa484288d409f2b5f77",
            "91243653750f4fa08cd0112eb1d2d0c5",
            "0d23d36d155544c5bc4a957e84f9f00f",
            "20b4c4cb0ed5446889ffbc9dca62e44d",
            "dbc1b2c0334a4117ac578349c9c632c0",
            "dae53d1fde454f51b27ea86030b3d6d4",
            "91a869fb3f604d6e84f8dc45ec28c288",
            "064b80277e4b4a8bb26884595a97b3ce",
            "563caaa06fb94ded95e91fc5f52ec753",
            "46fbac81013843d094f7fc97903a8ea4",
            "ea248332235540bb92946c306c61c489",
            "cbbde145cc3245c6923729f95aecb4a6",
            "8efc57ff95264cb89d34c8d8aba44830",
            "256ffd3284cc46ff8e5ece8d300775f6",
            "f3e12cb364384ed1ba8b5f3af715fe0f",
            "bbe1d00286cc4edcab3105af93034ced",
            "87ad1887190a4000b6d8568bdf4ab903",
            "8607f05319b444aeab274e568e43208a",
            "8f7726c1c66143889fe2c9d0ef45942f",
            "edfb81bfb6994fc5a9587ae2d50ecf06"
          ]
        },
        "id": "AnApw13455GC",
        "outputId": "388c8fee-1c20-499d-f5de-03643bdd8623"
      },
      "outputs": [
        {
          "output_type": "stream",
          "name": "stdout",
          "text": [
            "Downloading http://yann.lecun.com/exdb/mnist/train-images-idx3-ubyte.gz\n",
            "Downloading http://yann.lecun.com/exdb/mnist/train-images-idx3-ubyte.gz to ./data/MNIST/raw/train-images-idx3-ubyte.gz\n"
          ]
        },
        {
          "output_type": "display_data",
          "data": {
            "text/plain": [
              "  0%|          | 0/9912422 [00:00<?, ?it/s]"
            ],
            "application/vnd.jupyter.widget-view+json": {
              "version_major": 2,
              "version_minor": 0,
              "model_id": "5ba9bf581c7b4f80a942afe85fff1f6d"
            }
          },
          "metadata": {}
        },
        {
          "output_type": "stream",
          "name": "stdout",
          "text": [
            "Extracting ./data/MNIST/raw/train-images-idx3-ubyte.gz to ./data/MNIST/raw\n",
            "\n",
            "Downloading http://yann.lecun.com/exdb/mnist/train-labels-idx1-ubyte.gz\n",
            "Downloading http://yann.lecun.com/exdb/mnist/train-labels-idx1-ubyte.gz to ./data/MNIST/raw/train-labels-idx1-ubyte.gz\n"
          ]
        },
        {
          "output_type": "display_data",
          "data": {
            "text/plain": [
              "  0%|          | 0/28881 [00:00<?, ?it/s]"
            ],
            "application/vnd.jupyter.widget-view+json": {
              "version_major": 2,
              "version_minor": 0,
              "model_id": "cdc01c944418492a8d5817dbbe339711"
            }
          },
          "metadata": {}
        },
        {
          "output_type": "stream",
          "name": "stdout",
          "text": [
            "Extracting ./data/MNIST/raw/train-labels-idx1-ubyte.gz to ./data/MNIST/raw\n",
            "\n",
            "Downloading http://yann.lecun.com/exdb/mnist/t10k-images-idx3-ubyte.gz\n",
            "Downloading http://yann.lecun.com/exdb/mnist/t10k-images-idx3-ubyte.gz to ./data/MNIST/raw/t10k-images-idx3-ubyte.gz\n"
          ]
        },
        {
          "output_type": "display_data",
          "data": {
            "text/plain": [
              "  0%|          | 0/1648877 [00:00<?, ?it/s]"
            ],
            "application/vnd.jupyter.widget-view+json": {
              "version_major": 2,
              "version_minor": 0,
              "model_id": "9fc5dc0e3ffc43eb90b70f1145902784"
            }
          },
          "metadata": {}
        },
        {
          "output_type": "stream",
          "name": "stdout",
          "text": [
            "Extracting ./data/MNIST/raw/t10k-images-idx3-ubyte.gz to ./data/MNIST/raw\n",
            "\n",
            "Downloading http://yann.lecun.com/exdb/mnist/t10k-labels-idx1-ubyte.gz\n",
            "Downloading http://yann.lecun.com/exdb/mnist/t10k-labels-idx1-ubyte.gz to ./data/MNIST/raw/t10k-labels-idx1-ubyte.gz\n"
          ]
        },
        {
          "output_type": "display_data",
          "data": {
            "text/plain": [
              "  0%|          | 0/4542 [00:00<?, ?it/s]"
            ],
            "application/vnd.jupyter.widget-view+json": {
              "version_major": 2,
              "version_minor": 0,
              "model_id": "46fbac81013843d094f7fc97903a8ea4"
            }
          },
          "metadata": {}
        },
        {
          "output_type": "stream",
          "name": "stdout",
          "text": [
            "Extracting ./data/MNIST/raw/t10k-labels-idx1-ubyte.gz to ./data/MNIST/raw\n",
            "\n"
          ]
        }
      ],
      "source": [
        "train_data = torchvision.datasets.MNIST(root='./data',\n",
        "                                        train=True, \n",
        "                                        transform=torchvision.transforms.ToTensor(),  \n",
        "                                        download=True)\n",
        "\n",
        "train_data,experiment_data = random_split(train_data,[50000,10000])\n",
        "\n",
        "train_loader = DataLoader(dataset= train_data, batch_size=batch_size, shuffle=True)\n",
        "experiment_loader = DataLoader(dataset=experiment_data, batch_size=1,shuffle=True)\n",
        "\n",
        "test_data = torchvision.datasets.MNIST(root='./data',\n",
        "                                        train=False, \n",
        "                                        transform=torchvision.transforms.ToTensor(),  \n",
        "                                        download=True)\n",
        "test_loader = DataLoader(dataset=test_data,batch_size = batch_size,shuffle=False)"
      ]
    },
    {
      "cell_type": "markdown",
      "metadata": {
        "id": "pRYj4WQ_55GC"
      },
      "source": [
        "## Question 2"
      ]
    },
    {
      "cell_type": "markdown",
      "metadata": {
        "id": "-_SXq9yY55GD"
      },
      "source": [
        "Define a network with the following architecture:\n",
        "\n",
        "Conv2d (input channels=1, output channels = 15,kernel size = 5)\n",
        "$\\rightarrow$\n",
        "MaxPool (kernel size = 2)\n",
        "$\\rightarrow$\n",
        "ReLU\n",
        "$\\rightarrow$\n",
        "Conv2d (input channels=15, output channels = 30,kernel size = 5)\n",
        "$\\rightarrow$\n",
        "Dropout2d (p = 0.5)\n",
        "$\\rightarrow$\n",
        "MaxPool (kernel size = 2)\n",
        "$\\rightarrow$\n",
        "ReLU\n",
        "$\\rightarrow$\n",
        "Linear(input dimension = 480, hidden units = 64)\n",
        "$\\rightarrow$\n",
        "ReLU\n",
        "$\\rightarrow$\n",
        "Dropout (p=0.5)\n",
        "$\\rightarrow$\n",
        "Linear(input dimension = 64, hidden units = 10)\n",
        "$\\rightarrow$\n",
        "LogSoftMax"
      ]
    },
    {
      "cell_type": "code",
      "execution_count": 4,
      "metadata": {
        "id": "naGY9OGV55GD"
      },
      "outputs": [],
      "source": [
        "class ConvNet(nn.Module):\n",
        "    def __init__(self):\n",
        "        super(ConvNet,self).__init__()\n",
        "        self.conv1 = nn.Conv2d(in_channels=1, out_channels=15,kernel_size=5)\n",
        "        self.pool1 = nn.MaxPool2d(kernel_size = 2)\n",
        "        self.conv2 = nn.Conv2d(in_channels=15, out_channels=30,kernel_size=5)\n",
        "        self.dropout1 = nn.Dropout2d(p = 0.5)\n",
        "        self.pool2 = nn.MaxPool2d(kernel_size=2)\n",
        "        self.fc1 = nn.Linear(480,64)\n",
        "        self.dropout2 = nn.Dropout(p=0.5)\n",
        "        self.fc2 = nn.Linear(64,10)\n",
        "        self.softmax = nn.LogSoftmax()\n",
        "    \n",
        "    def forward(self,finput):\n",
        "        finput = F.relu(self.pool1(self.conv1(finput)))\n",
        "        #print(finput.shape)\n",
        "        finput = F.relu(self.pool2(self.dropout1(self.conv2(finput))))\n",
        "        #print(finput.shape)\n",
        "        finput = torch.flatten(finput,start_dim=1)\n",
        "        #print(finput.shape)\n",
        "        finput = F.relu(self.fc1(finput))\n",
        "        #print(finput.shape)\n",
        "        finput = self.fc2(self.dropout2(finput))\n",
        "        #print(finput.shape)\n",
        "        finput = self.softmax(finput)\n",
        "        #print(finput.shape)\n",
        "        return finput"
      ]
    },
    {
      "cell_type": "code",
      "execution_count": 5,
      "metadata": {
        "id": "iwNH5uWU55GD"
      },
      "outputs": [],
      "source": [
        "model = ConvNet()"
      ]
    },
    {
      "cell_type": "markdown",
      "metadata": {
        "id": "sQoviIge55GE"
      },
      "source": [
        "## Question 3"
      ]
    },
    {
      "cell_type": "markdown",
      "metadata": {
        "id": "MbqKm1-k55GE"
      },
      "source": [
        "Train the network you defined in the previous question on MNIST, using the optimizer and the number of training epochs you deem appropriate. Use a cross-entropy loss. Each epoch test your model on the testing dataset and print the value of the accuracy that you achieve. Produce a plot of the loss against the number of epochs.\n",
        "\n",
        "**Note**: Do not be overly worried about the accuracy that you achieve with your model. It should be upwards of 95% at the very least, but you won't get bonus marks for training a model that has 99.x% accuracy."
      ]
    },
    {
      "cell_type": "code",
      "execution_count": 6,
      "metadata": {
        "id": "KJJ4LnJ-55GE"
      },
      "outputs": [],
      "source": [
        "loss_criterion = nn.NLLLoss()\n",
        "optimizer = torch.optim.SGD(model.parameters(), lr = lr)"
      ]
    },
    {
      "cell_type": "code",
      "execution_count": 7,
      "metadata": {
        "colab": {
          "base_uri": "https://localhost:8080/",
          "height": 511
        },
        "id": "TAvqjTwJ55GE",
        "outputId": "9960e685-e812-4912-edbb-827cc5e524d6"
      },
      "outputs": [
        {
          "output_type": "stream",
          "name": "stderr",
          "text": [
            "/usr/local/lib/python3.7/dist-packages/ipykernel_launcher.py:25: UserWarning: Implicit dimension choice for log_softmax has been deprecated. Change the call to include dim=X as an argument.\n"
          ]
        },
        {
          "output_type": "stream",
          "name": "stdout",
          "text": [
            "Accuracy after  1  epochs :  71.69\n",
            "Accuracy after  2  epochs :  89.92999999999999\n",
            "Accuracy after  3  epochs :  92.85\n",
            "Accuracy after  4  epochs :  94.36\n",
            "Accuracy after  5  epochs :  95.03\n",
            "Accuracy after  6  epochs :  95.44\n",
            "Accuracy after  7  epochs :  96.04\n",
            "Accuracy after  8  epochs :  96.38\n",
            "Accuracy after  9  epochs :  96.41999999999999\n",
            "Accuracy after  10  epochs :  96.75\n"
          ]
        },
        {
          "output_type": "display_data",
          "data": {
            "text/plain": [
              "<Figure size 432x288 with 1 Axes>"
            ],
            "image/png": "[encoded data removed]"
          },
          "metadata": {
            "needs_background": "light"
          }
        }
      ],
      "source": [
        "#training loop\n",
        "loss_values = []\n",
        "for epoch in range(total_epochs):\n",
        "    running_loss = 0\n",
        "    model.train()\n",
        "    for images,labels in train_loader:\n",
        "        #forward pass\n",
        "        outputs = model(images)\n",
        "        #finding loss\n",
        "        loss = loss_criterion(outputs,labels)\n",
        "        #backward pass\n",
        "        optimizer.zero_grad()\n",
        "        loss.backward()\n",
        "        optimizer.step()\n",
        "        \n",
        "        running_loss += loss.item()\n",
        "    loss_values.append(running_loss/len(train_loader))\n",
        "    \n",
        "    with torch.no_grad():\n",
        "        model.eval()\n",
        "        correct_samples = 0\n",
        "        total_samples = 0\n",
        "        for images,labels in test_loader:\n",
        "            pred_ratio = model(images)\n",
        "            _, pred_labels = torch.max(pred_ratio,1)\n",
        "            total_samples += labels.size(0)\n",
        "            correct_samples += (pred_labels==labels).sum().item()\n",
        "        accuracy = (correct_samples/total_samples)*100\n",
        "        print('Accuracy after ',epoch+1,' epochs : ', accuracy)\n",
        "\n",
        "plt.plot(range(total_epochs),loss_values,'blue')\n",
        "plt.title('Loss decay')\n",
        "plt.xlabel('number of epochs')\n",
        "plt.ylabel('Loss')\n",
        "plt.show()"
      ]
    },
    {
      "cell_type": "code",
      "execution_count": 8,
      "metadata": {
        "id": "qy3wUE7I55GF"
      },
      "outputs": [],
      "source": [
        "torch.save(model.state_dict(), 'model_orignal')"
      ]
    },
    {
      "cell_type": "markdown",
      "metadata": {
        "id": "ljXyEUxx55GF"
      },
      "source": [
        "## Question 4"
      ]
    },
    {
      "cell_type": "markdown",
      "metadata": {
        "id": "oT-lAj0655GF"
      },
      "source": [
        "### Part 1"
      ]
    },
    {
      "cell_type": "markdown",
      "metadata": {
        "id": "s0czXbJz55GF"
      },
      "source": [
        "Suppose that you have a fully trained network, and that you wanted to find images that \"fooled\" it, i.e., images that are misclassified by your network.\n",
        "\n",
        "One simple approach would be to take an input image, and then alter it in the direction of ascent of the gradient of the loss w.r.t to the pixels of that input image. Mathematically:\n",
        "\n",
        "$\n",
        "\\begin{equation}\n",
        "x^´ = x + \\epsilon \\,\\text{sign}\\left[\\nabla_x \\mathcal{L(\\theta,x,y}) \\right]\n",
        "\\end{equation}\n",
        "$,\n",
        "\n",
        "where $x^´$ is the (perturbed) image you hope will fool the classifier, $x$ is the input image, $y$ is the label of the original image, $\\theta$ are the network parameters, $\\epsilon$ is a hyperparameter controlling the strength of the perturbation, and $\\mathcal{L}$ is the loss.\n",
        "\n",
        "Implement this in Pytorch, using the model you trained in question 3. Generate one $x'$ for all the images in the MNIST testing set, keep the $x^´$ that sucessfully fool your model, alongside their original labels and their predicted (wrong) labels, and print out the accuracy of your model in the perturbed testing set (all the $x^´$ obtained from the images in the original testing set using the equation above), for the following epsilons: $\\epsilon = 0,0.05,0.15,0.25$\n",
        "\n",
        "**Hint**: A line of code similar to \"data.requires_grad = True\" is needed somewhere in your solution"
      ]
    },
    {
      "cell_type": "markdown",
      "metadata": {
        "id": "PdV8dpTp55GF"
      },
      "source": [
        "### Part 2"
      ]
    },
    {
      "cell_type": "markdown",
      "metadata": {
        "id": "CQY55NVq55GF"
      },
      "source": [
        "Show some of the images that fooled your network in part 1 (plt.imshow will come in handy), making sure to include both what their original and perturbed labels were in the title of your plot. Does it make sense to you that these images are fooling your network? Why or why not?"
      ]
    },
    {
      "cell_type": "code",
      "execution_count": 9,
      "metadata": {
        "id": "4BNZpEIR55GF"
      },
      "outputs": [],
      "source": [
        "exp_itr = iter(experiment_loader)\n",
        "images,labels = exp_itr.next()\n",
        "exp_images,exp_labels = images.numpy(),labels.numpy()\n"
      ]
    },
    {
      "cell_type": "code",
      "execution_count": 10,
      "metadata": {
        "colab": {
          "base_uri": "https://localhost:8080/",
          "height": 122
        },
        "id": "aFSNfgU555GF",
        "outputId": "6395acb7-7fea-4f1d-e0ef-24e6f7896f22"
      },
      "outputs": [
        {
          "output_type": "display_data",
          "data": {
            "text/plain": [
              "<Figure size 432x288 with 1 Axes>"
            ],
            "image/png": "[encoded data removed]"
          },
          "metadata": {
            "needs_background": "light"
          }
        }
      ],
      "source": [
        "f = plt.figure()\n",
        "for image,i,label in zip(exp_images[0:5],range(5),exp_labels[0:5]):\n",
        "    f.add_subplot(1, 5, i + 1)\n",
        "    plt.imshow(np.reshape(image, (28, 28)),cmap=\"gray\")\n",
        "    plt.title(label)\n",
        "plt.show(block=True)"
      ]
    },
    {
      "cell_type": "code",
      "execution_count": 11,
      "metadata": {
        "id": "ePNVG3d355GG"
      },
      "outputs": [],
      "source": [
        "def apply_fgsm(image, epsilon, data_grad):\n",
        "    sign_data_grad = data_grad.sign()\n",
        "    perturbed_image = image + epsilon*sign_data_grad\n",
        "    perturbed_image = torch.clamp(perturbed_image, 0, 1)\n",
        "    return perturbed_image"
      ]
    },
    {
      "cell_type": "code",
      "execution_count": 12,
      "metadata": {
        "id": "QYq_L0_c55GG"
      },
      "outputs": [],
      "source": [
        "def get_adversarial_images(perturb_model,test_model,experiment_loader,epsilon,IsFeatureModel):\n",
        "    correct = 0\n",
        "    adv_examples =[]\n",
        "\n",
        "    for image, label in experiment_loader:\n",
        "        perturb_model.train()\n",
        "        image.requires_grad = True\n",
        "        out = perturb_model(image)\n",
        "        _,pred_labels = torch.max(out,1)\n",
        "\n",
        "        if pred_labels.item() != label.item():\n",
        "            continue\n",
        "        \n",
        "        loss = loss_criterion(out,label)\n",
        "        perturb_model.zero_grad()\n",
        "        loss.backward()\n",
        "\n",
        "        image_grad = image.grad.data\n",
        "        perturbed_data = apply_fgsm(image,epsilon,image_grad)\n",
        "\n",
        "        #again classify perturbed images\n",
        "        if(IsFeatureModel == True):\n",
        "            model.load_state_dict(torch.load('model_new'))\n",
        "        test_model.eval()\n",
        "        perturbed_out = test_model(perturbed_data)\n",
        "        _,perturbed_predictions = torch.max(perturbed_out,1)\n",
        "\n",
        "        if perturbed_predictions.item() == label.item():\n",
        "            correct+=1\n",
        "            if (epsilon == 0) and (len(adv_examples) < 5):\n",
        "                adv_ex = perturbed_data.squeeze().detach().cpu().numpy()\n",
        "                adv_examples.append( (pred_labels.item(), perturbed_predictions.item(), adv_ex) )\n",
        "        else:\n",
        "            if len(adv_examples) < 5:\n",
        "                adv_ex = perturbed_data.squeeze().detach().cpu().numpy()\n",
        "                adv_examples.append( (pred_labels.item(), perturbed_predictions.item(), adv_ex) )\n",
        "\n",
        "    accuracy = correct/float(len(experiment_loader))\n",
        "    print(\"Epsilon: {}\\t Experiment data Accuracy = {} / {} = {}\".format(epsilon, correct, len(experiment_loader), accuracy))\n",
        "    \n",
        "    return adv_examples"
      ]
    },
    {
      "cell_type": "code",
      "execution_count": 13,
      "metadata": {
        "colab": {
          "base_uri": "https://localhost:8080/"
        },
        "id": "L4NrgHBv55GG",
        "outputId": "2537dc79-32cc-4395-ac4a-a79f19ff84a9"
      },
      "outputs": [
        {
          "output_type": "stream",
          "name": "stderr",
          "text": [
            "/usr/local/lib/python3.7/dist-packages/ipykernel_launcher.py:25: UserWarning: Implicit dimension choice for log_softmax has been deprecated. Change the call to include dim=X as an argument.\n"
          ]
        },
        {
          "output_type": "stream",
          "name": "stdout",
          "text": [
            "Epsilon: 0\t Experiment data Accuracy = 9238 / 10000 = 0.9238\n",
            "Epsilon: 0.05\t Experiment data Accuracy = 8940 / 10000 = 0.894\n",
            "Epsilon: 0.15\t Experiment data Accuracy = 7128 / 10000 = 0.7128\n",
            "Epsilon: 0.25\t Experiment data Accuracy = 3504 / 10000 = 0.3504\n"
          ]
        }
      ],
      "source": [
        "fooled_examples = []\n",
        "for eps in epsilons:\n",
        "    ex = get_adversarial_images(model,model,experiment_loader, eps,False)\n",
        "    fooled_examples.append(ex)"
      ]
    },
    {
      "cell_type": "code",
      "execution_count": 14,
      "metadata": {
        "colab": {
          "base_uri": "https://localhost:8080/",
          "height": 572
        },
        "id": "QnDJnA2P55GG",
        "outputId": "45a23a67-4c34-4b6e-b190-d30a1882755a"
      },
      "outputs": [
        {
          "output_type": "display_data",
          "data": {
            "text/plain": [
              "<Figure size 720x720 with 20 Axes>"
            ],
            "image/png": "[encoded data removed]"
          },
          "metadata": {}
        }
      ],
      "source": [
        "counter = 0\n",
        "plt.figure(figsize=(10,10))\n",
        "for x in range(len(epsilons)):\n",
        "    for y in range(len(fooled_examples[i])):\n",
        "        counter += 1\n",
        "        plt.subplot(len(epsilons),len(fooled_examples[0]),counter)\n",
        "        plt.xticks([], [])\n",
        "        plt.yticks([], [])\n",
        "        if y == 0:\n",
        "            plt.ylabel(\"Eps: {}\".format(epsilons[x]))\n",
        "        orig_pred,adv_pred,image = fooled_examples[x][y]\n",
        "        plt.title(\"Bfr: {} Aftr:{}\".format(orig_pred, adv_pred))\n",
        "        plt.imshow(image, cmap=\"gray\")\n",
        "plt.show()"
      ]
    },
    {
      "cell_type": "markdown",
      "source": [
        "**Yes, perturbed images that we got after performing fast gradient sign method fooled our network. This is because we added noise to our data, FGSM is used to add noise in direction same as the gradient of cost function with respect to data. And this noise is scaled by epsilon i.e more the epsilon value more the noise is added to our images and more it get difficult for our model to predict correct classes.**"
      ],
      "metadata": {
        "id": "feMlV5Eh_P_y"
      }
    },
    {
      "cell_type": "markdown",
      "metadata": {
        "id": "BbWR-fWf55GG"
      },
      "source": [
        "## Question 5 (6505 only)"
      ]
    },
    {
      "cell_type": "markdown",
      "metadata": {
        "id": "vLyhQcvm55GG"
      },
      "source": [
        "Can you think of a way to make your network more robust to these perturbed images? Does your proposal have drawbacks? Run any experiments you feel are needed to prove your claims.\n",
        "\n",
        "**Note**: You are not expected to find a perfect solution, just something that makes sense and has some evidence backing it up. You will be marked on the persuasiveness of your argument/experiments and how much sense your proposal makes, not the overall improvements in robustness you achieve (however, if your proposal worsens the problem, then that's a pretty solid hint you're going in the wrong direction)."
      ]
    },
    {
      "cell_type": "markdown",
      "source": [
        "## Experiment -1 With Batchnorm"
      ],
      "metadata": {
        "id": "SLj4xMnWCv16"
      }
    },
    {
      "cell_type": "markdown",
      "source": [
        "First experiment that we tried is including batchnorm layer in our model, because as we have added noise to our dataset and to rectify these noisy values we thought of adding batchnorm layer will help our model while classifying adversiral images. \n",
        "\n",
        "And, results showed that it does help for the greater epsilon values in which we added alot of noise. As we can see from results that for epsilon .15 and .25 our model with batchnorm did performed better than model without batchnorm layer."
      ],
      "metadata": {
        "id": "xdM6s76VC0vM"
      }
    },
    {
      "cell_type": "code",
      "execution_count": 15,
      "metadata": {
        "id": "H7jFBapU55GG"
      },
      "outputs": [],
      "source": [
        "class ConvNet_withBatchNorm(nn.Module):\n",
        "    def __init__(self):\n",
        "        super(ConvNet_withBatchNorm,self).__init__()\n",
        "        self.conv1 = nn.Conv2d(in_channels=1, out_channels=15,kernel_size=5)\n",
        "        self.Bnorm1 = nn.BatchNorm2d(15)\n",
        "        self.pool1 = nn.MaxPool2d(kernel_size = 2)\n",
        "        self.conv2 = nn.Conv2d(in_channels=15, out_channels=30,kernel_size=5)\n",
        "        self.Bnorm2 = nn.BatchNorm2d(30)\n",
        "        self.dropout1 = nn.Dropout2d(p = 0.5)\n",
        "        self.pool2 = nn.MaxPool2d(kernel_size=2)\n",
        "        self.fc1 = nn.Linear(480,64)\n",
        "        self.dropout2 = nn.Dropout(p=0.5)\n",
        "        self.fc2 = nn.Linear(64,10)\n",
        "        self.softmax = nn.LogSoftmax()\n",
        "    \n",
        "    def forward(self,finput):\n",
        "        finput = F.relu(self.Bnorm1(self.pool1(self.conv1(finput))))\n",
        "        #print(finput.shape)\n",
        "        finput = F.relu(self.Bnorm2(self.dropout1(self.pool2(self.conv2(finput)))))\n",
        "        #print(finput.shape)\n",
        "        finput = torch.flatten(finput,start_dim=1)\n",
        "        #print(finput.shape)\n",
        "        finput = F.relu(self.fc1(finput))\n",
        "        #print(finput.shape)\n",
        "        finput = self.fc2(self.dropout2(finput))\n",
        "        #print(finput.shape)\n",
        "        finput = self.softmax(finput)\n",
        "        #print(finput.shape)\n",
        "        return finput"
      ]
    },
    {
      "cell_type": "code",
      "execution_count": 16,
      "metadata": {
        "id": "CmTxZTNT55GG"
      },
      "outputs": [],
      "source": [
        "model_withBnorm = ConvNet_withBatchNorm()\n",
        "optimizer = torch.optim.SGD(model_withBnorm.parameters(), lr = lr)"
      ]
    },
    {
      "cell_type": "code",
      "execution_count": 17,
      "metadata": {
        "colab": {
          "base_uri": "https://localhost:8080/",
          "height": 511
        },
        "id": "4F0SyYEl55GG",
        "outputId": "b5017ea1-d7ea-4d83-8983-774c1215a342"
      },
      "outputs": [
        {
          "output_type": "stream",
          "name": "stderr",
          "text": [
            "/usr/local/lib/python3.7/dist-packages/ipykernel_launcher.py:27: UserWarning: Implicit dimension choice for log_softmax has been deprecated. Change the call to include dim=X as an argument.\n"
          ]
        },
        {
          "output_type": "stream",
          "name": "stdout",
          "text": [
            "Model with BatchNorm Accuracy after  1  epochs :  85.79\n",
            "Model with BatchNorm Accuracy after  2  epochs :  91.78\n",
            "Model with BatchNorm Accuracy after  3  epochs :  93.39\n",
            "Model with BatchNorm Accuracy after  4  epochs :  94.58\n",
            "Model with BatchNorm Accuracy after  5  epochs :  95.09\n",
            "Model with BatchNorm Accuracy after  6  epochs :  95.77\n",
            "Model with BatchNorm Accuracy after  7  epochs :  96.02000000000001\n",
            "Model with BatchNorm Accuracy after  8  epochs :  96.0\n",
            "Model with BatchNorm Accuracy after  9  epochs :  96.32\n",
            "Model with BatchNorm Accuracy after  10  epochs :  96.27\n"
          ]
        },
        {
          "output_type": "display_data",
          "data": {
            "text/plain": [
              "<Figure size 432x288 with 1 Axes>"
            ],
            "image/png": "[encoded data removed]"
          },
          "metadata": {
            "needs_background": "light"
          }
        }
      ],
      "source": [
        "#training loop\n",
        "loss_values = []\n",
        "for epoch in range(total_epochs):\n",
        "    running_loss = 0\n",
        "    for images,labels in train_loader:\n",
        "        model.train()\n",
        "        #forward pass\n",
        "        outputs = model_withBnorm(images)\n",
        "        #finding loss\n",
        "        loss = loss_criterion(outputs,labels)\n",
        "        #backward pass\n",
        "        optimizer.zero_grad()\n",
        "        loss.backward()\n",
        "        optimizer.step()\n",
        "        \n",
        "        running_loss += loss.item()\n",
        "    loss_values.append(running_loss/len(train_loader))\n",
        "    \n",
        "    with torch.no_grad():\n",
        "        model.eval()\n",
        "        correct_samples = 0\n",
        "        total_samples = 0\n",
        "        for images,labels in test_loader:\n",
        "            pred_ratio = model_withBnorm(images)\n",
        "            _, pred_labels = torch.max(pred_ratio,1)\n",
        "            total_samples += labels.size(0)\n",
        "            correct_samples += (pred_labels==labels).sum().item()\n",
        "        accuracy = (correct_samples/total_samples)*100\n",
        "        print('Model with BatchNorm Accuracy after ',epoch+1,' epochs : ', accuracy)\n",
        "\n",
        "plt.plot(range(total_epochs),loss_values,'blue')\n",
        "plt.title('Loss decay')\n",
        "plt.xlabel('number of epochs')\n",
        "plt.ylabel('Loss')\n",
        "plt.show()"
      ]
    },
    {
      "cell_type": "code",
      "execution_count": 18,
      "metadata": {
        "id": "WND7dQ1L55GG"
      },
      "outputs": [],
      "source": [
        "torch.save(model_withBnorm.state_dict(), 'model_withBatchnorm')"
      ]
    },
    {
      "cell_type": "markdown",
      "source": [
        "**Below shows result for adversarial attack on simple model created in step 2:**\n",
        "\n"
      ],
      "metadata": {
        "id": "paazzn2PEGFS"
      }
    },
    {
      "cell_type": "code",
      "execution_count": 19,
      "metadata": {
        "colab": {
          "base_uri": "https://localhost:8080/"
        },
        "id": "P0nxdv_t55GG",
        "outputId": "85f70e0e-dd36-449c-f26b-64efa57cc1ae"
      },
      "outputs": [
        {
          "output_type": "stream",
          "name": "stderr",
          "text": [
            "/usr/local/lib/python3.7/dist-packages/ipykernel_launcher.py:25: UserWarning: Implicit dimension choice for log_softmax has been deprecated. Change the call to include dim=X as an argument.\n"
          ]
        },
        {
          "output_type": "stream",
          "name": "stdout",
          "text": [
            "Epsilon: 0\t Experiment data Accuracy = 9237 / 10000 = 0.9237\n",
            "Epsilon: 0.05\t Experiment data Accuracy = 8971 / 10000 = 0.8971\n",
            "Epsilon: 0.15\t Experiment data Accuracy = 7142 / 10000 = 0.7142\n",
            "Epsilon: 0.25\t Experiment data Accuracy = 3484 / 10000 = 0.3484\n"
          ]
        }
      ],
      "source": [
        "fooled_examples = []\n",
        "for eps in epsilons:\n",
        "    ex = get_adversarial_images(model,model, experiment_loader, eps,False)\n",
        "    fooled_examples.append(ex)\n",
        "\n"
      ]
    },
    {
      "cell_type": "markdown",
      "source": [
        "**Below shows result for adversarial attack on model with Batch norm layers added:**"
      ],
      "metadata": {
        "id": "P83uNJKHE81y"
      }
    },
    {
      "cell_type": "code",
      "execution_count": 20,
      "metadata": {
        "colab": {
          "base_uri": "https://localhost:8080/"
        },
        "id": "3Pj4V4mQ55GH",
        "outputId": "b2c13aec-5e1d-41d9-b5d2-034cd277f2cf"
      },
      "outputs": [
        {
          "output_type": "stream",
          "name": "stderr",
          "text": [
            "/usr/local/lib/python3.7/dist-packages/ipykernel_launcher.py:25: UserWarning: Implicit dimension choice for log_softmax has been deprecated. Change the call to include dim=X as an argument.\n",
            "/usr/local/lib/python3.7/dist-packages/ipykernel_launcher.py:27: UserWarning: Implicit dimension choice for log_softmax has been deprecated. Change the call to include dim=X as an argument.\n"
          ]
        },
        {
          "output_type": "stream",
          "name": "stdout",
          "text": [
            "Epsilon: 0\t Experiment data Accuracy = 9243 / 10000 = 0.9243\n",
            "Epsilon: 0.05\t Experiment data Accuracy = 9237 / 10000 = 0.9237\n",
            "Epsilon: 0.15\t Experiment data Accuracy = 8809 / 10000 = 0.8809\n",
            "Epsilon: 0.25\t Experiment data Accuracy = 6525 / 10000 = 0.6525\n"
          ]
        }
      ],
      "source": [
        "fooled_examples = []\n",
        "for eps in epsilons:\n",
        "    ex = get_adversarial_images(model,model_withBnorm, experiment_loader, eps,False)\n",
        "    fooled_examples.append(ex)"
      ]
    },
    {
      "cell_type": "markdown",
      "metadata": {
        "id": "mR3AJ4CA55GH"
      },
      "source": [
        "## Experiment 2 - Using Feature Maps\n"
      ]
    },
    {
      "cell_type": "markdown",
      "source": [
        "In this experiment, what we tried is after training model in step 2 we extracted layers from that model and passed all our training set on that trained Conv-1 layer to generate feature maps. \n",
        "\n",
        "Those generated featured maps we again trained in already trained model to make our model more generalize. As feature maps are already noisy images so traing model on feature maps might help harnessing adverseral attack.\n",
        "\n",
        "Results showed us that, In smaller epsilon values it didnot increased accuaracy but neither worsen it. But in epsilon : 0.25 we can see our accuaracy actually increased for the pre-trained model that we trained on feature maps. \n",
        "\n",
        "hence this showed us that training model on fetaure maps added more generaliztion to our model and can help us a little to overcome adversarial attacks"
      ],
      "metadata": {
        "id": "lXw8D_XIFpfc"
      }
    },
    {
      "cell_type": "code",
      "execution_count": 21,
      "metadata": {
        "id": "huyR46z255GH"
      },
      "outputs": [],
      "source": [
        "class ConvNet_new(nn.Module):\n",
        "    def __init__(self):\n",
        "        super(ConvNet_new,self).__init__()\n",
        "        self.conv1 = nn.Conv2d(in_channels=1, out_channels=15,kernel_size=5, padding=2)\n",
        "        self.pool1 = nn.MaxPool2d(kernel_size = 2)\n",
        "        self.conv2 = nn.Conv2d(in_channels=15, out_channels=30,kernel_size=5)\n",
        "        self.dropout1 = nn.Dropout2d(p = 0.5)\n",
        "        self.pool2 = nn.MaxPool2d(kernel_size=2)\n",
        "        self.fc1 = nn.Linear(480,64)\n",
        "        self.dropout2 = nn.Dropout(p=0.5)\n",
        "        self.fc2 = nn.Linear(64,10)\n",
        "        self.softmax = nn.LogSoftmax()\n",
        "    \n",
        "    def forward(self,finput):\n",
        "        finput = F.relu(self.pool1(self.conv1(finput)))\n",
        "        #print(finput.shape)\n",
        "        finput = F.relu(self.pool2(self.dropout1(self.conv2(finput))))\n",
        "        #print(finput.shape)\n",
        "        finput = torch.flatten(finput,start_dim=1)\n",
        "        #print(finput.shape)\n",
        "        finput = F.relu(self.fc1(finput))\n",
        "        #print(finput.shape)\n",
        "        finput = self.fc2(self.dropout2(finput))\n",
        "        #print(finput.shape)\n",
        "        finput = self.softmax(finput)\n",
        "        #print(finput.shape)\n",
        "        return finput"
      ]
    },
    {
      "cell_type": "code",
      "execution_count": 22,
      "metadata": {
        "colab": {
          "base_uri": "https://localhost:8080/"
        },
        "id": "gdfYSb_w55GH",
        "outputId": "217cfe67-6093-42ba-f7c6-3c6177368798"
      },
      "outputs": [
        {
          "output_type": "execute_result",
          "data": {
            "text/plain": [
              "<All keys matched successfully>"
            ]
          },
          "metadata": {},
          "execution_count": 22
        }
      ],
      "source": [
        "model_new = ConvNet_new() \n",
        "model_new.load_state_dict(torch.load('model_orignal'))"
      ]
    },
    {
      "cell_type": "code",
      "execution_count": 23,
      "metadata": {
        "id": "v48wco_w55GH"
      },
      "outputs": [],
      "source": [
        "def extract_featuremaps(batch_images):\n",
        "    model_weights =[]\n",
        "    conv_layers = []\n",
        "    model_children = list(model.children())\n",
        "    counter = 0\n",
        "    for i in range(len(model_children)):\n",
        "        if type(model_children[i]) == nn.Conv2d:\n",
        "            counter+=1\n",
        "            model_weights.append(model_children[i].weight)\n",
        "            conv_layers.append(model_children[i])\n",
        "        elif type(model_children[i]) == nn.Sequential:\n",
        "            for j in range(len(model_children[i])):\n",
        "                for child in model_children[i][j].children():\n",
        "                    if type(child) == nn.Conv2d:\n",
        "                        counter+=1\n",
        "                        model_weights.append(child.weight)\n",
        "                        conv_layers.append(child)\n",
        "\n",
        "    outputs = []\n",
        "    names = []\n",
        "    for layer in conv_layers[0:1]:\n",
        "        image = layer(batch_images)\n",
        "        outputs.append(image)\n",
        "        names.append(str(layer))\n",
        "\n",
        "    processed = []\n",
        "    for feature_map in outputs:\n",
        "        feature_map = feature_map.squeeze(1)\n",
        "        gray_scale = torch.sum(feature_map,1)\n",
        "        gray_scale = gray_scale / feature_map.shape[1]\n",
        "        processed.append(gray_scale.data.cpu())\n",
        "\n",
        "    feature_map_image = []\n",
        "    for i in range(len(processed)):\n",
        "        feature_map_image = processed[i]\n",
        "\n",
        "    return feature_map_image"
      ]
    },
    {
      "cell_type": "code",
      "execution_count": 24,
      "metadata": {
        "id": "nPHXl8V055GH"
      },
      "outputs": [],
      "source": [
        "def getfeatures_from_loader(input_loader):\n",
        "   train_feature_maps = [] \n",
        "   train_labels = []\n",
        "   for images,labels in input_loader:\n",
        "      train_labels.append(labels)\n",
        "      train_feature_maps.append(extract_featuremaps(images))\n",
        "   feature_list = []\n",
        "   for i in train_feature_maps:\n",
        "      feature_list.append(torch.tensor(i.reshape(i.shape[0],1,24,24)))\n",
        "   return np.array(feature_list), train_labels"
      ]
    },
    {
      "cell_type": "code",
      "execution_count": 25,
      "metadata": {
        "colab": {
          "base_uri": "https://localhost:8080/"
        },
        "id": "iZqK66j955GH",
        "outputId": "9e559fcb-c361-43ef-b586-473802dc906c"
      },
      "outputs": [
        {
          "output_type": "stream",
          "name": "stderr",
          "text": [
            "/usr/local/lib/python3.7/dist-packages/ipykernel_launcher.py:9: UserWarning: To copy construct from a tensor, it is recommended to use sourceTensor.clone().detach() or sourceTensor.clone().detach().requires_grad_(True), rather than torch.tensor(sourceTensor).\n",
            "  if __name__ == '__main__':\n",
            "/usr/local/lib/python3.7/dist-packages/ipykernel_launcher.py:10: FutureWarning: The input object of type 'Tensor' is an array-like implementing one of the corresponding protocols (`__array__`, `__array_interface__` or `__array_struct__`); but not a sequence (or 0-D). In the future, this object will be coerced as if it was first converted using `np.array(obj)`. To retain the old behaviour, you have to either modify the type 'Tensor', or assign to an empty array created with `np.empty(correct_shape, dtype=object)`.\n",
            "  # Remove the CWD from sys.path while we load stuff.\n",
            "/usr/local/lib/python3.7/dist-packages/ipykernel_launcher.py:10: VisibleDeprecationWarning: Creating an ndarray from ragged nested sequences (which is a list-or-tuple of lists-or-tuples-or ndarrays with different lengths or shapes) is deprecated. If you meant to do this, you must specify 'dtype=object' when creating the ndarray.\n",
            "  # Remove the CWD from sys.path while we load stuff.\n"
          ]
        }
      ],
      "source": [
        "train_featuremaps, feature_train_labels = getfeatures_from_loader(train_loader)"
      ]
    },
    {
      "cell_type": "code",
      "execution_count": 26,
      "metadata": {
        "id": "iQJAfK4I55GH"
      },
      "outputs": [],
      "source": [
        "optimizer = torch.optim.SGD(model_new.parameters(), lr = lr)"
      ]
    },
    {
      "cell_type": "code",
      "execution_count": 27,
      "metadata": {
        "colab": {
          "base_uri": "https://localhost:8080/",
          "height": 690
        },
        "id": "3rTGf4z855GH",
        "outputId": "82d55249-e1e5-4d36-fe13-98f40119dc43"
      },
      "outputs": [
        {
          "output_type": "stream",
          "name": "stderr",
          "text": [
            "/usr/local/lib/python3.7/dist-packages/ipykernel_launcher.py:25: UserWarning: Implicit dimension choice for log_softmax has been deprecated. Change the call to include dim=X as an argument.\n"
          ]
        },
        {
          "output_type": "stream",
          "name": "stdout",
          "text": [
            "Accuracy after  1  epochs :  95.6\n",
            "Accuracy after  2  epochs :  95.41\n",
            "Accuracy after  3  epochs :  95.27\n",
            "Accuracy after  4  epochs :  95.53\n",
            "Accuracy after  5  epochs :  95.38\n",
            "Accuracy after  6  epochs :  95.6\n",
            "Accuracy after  7  epochs :  95.67999999999999\n",
            "Accuracy after  8  epochs :  95.66\n",
            "Accuracy after  9  epochs :  95.45\n",
            "Accuracy after  10  epochs :  95.56\n",
            "Accuracy after  11  epochs :  95.54\n",
            "Accuracy after  12  epochs :  95.74000000000001\n",
            "Accuracy after  13  epochs :  95.56\n",
            "Accuracy after  14  epochs :  95.81\n",
            "Accuracy after  15  epochs :  95.78\n",
            "Accuracy after  16  epochs :  95.78\n",
            "Accuracy after  17  epochs :  95.81\n",
            "Accuracy after  18  epochs :  95.77\n",
            "Accuracy after  19  epochs :  95.93\n",
            "Accuracy after  20  epochs :  96.00999999999999\n"
          ]
        },
        {
          "output_type": "display_data",
          "data": {
            "text/plain": [
              "<Figure size 432x288 with 1 Axes>"
            ],
            "image/png": "[encoded data removed]"
          },
          "metadata": {
            "needs_background": "light"
          }
        }
      ],
      "source": [
        "\n",
        "#training loop\n",
        "loss_values = []\n",
        "for epoch in range(total_epochs+10):\n",
        "    running_loss = 0\n",
        "    for images,labels in zip(train_featuremaps, feature_train_labels):\n",
        "        model_new.train()\n",
        "        #forward pass\n",
        "        outputs = model_new(images)\n",
        "        #finding loss\n",
        "        loss = loss_criterion(outputs,labels)\n",
        "        #backward pass\n",
        "        optimizer.zero_grad()\n",
        "        loss.backward()\n",
        "        optimizer.step()\n",
        "        \n",
        "        running_loss += loss.item()\n",
        "    loss_values.append(running_loss/len(feature_train_labels))\n",
        "    with torch.no_grad():\n",
        "        model.load_state_dict(model_new.state_dict())\n",
        "        model.eval()\n",
        "        correct_samples = 0\n",
        "        total_samples = 0\n",
        "        for images,labels in test_loader:\n",
        "            pred_ratio = model(images)\n",
        "            _, pred_labels = torch.max(pred_ratio,1)\n",
        "            total_samples += labels.size(0)\n",
        "            correct_samples += (pred_labels==labels).sum().item()\n",
        "        accuracy = (correct_samples/total_samples)*100\n",
        "        print('Accuracy after ',epoch+1,' epochs : ', accuracy)\n",
        "plt.plot(range(total_epochs+10),loss_values,'blue')\n",
        "plt.title('Loss decay')\n",
        "plt.xlabel('number of epochs')\n",
        "plt.ylabel('Loss')\n",
        "plt.show()"
      ]
    },
    {
      "cell_type": "code",
      "execution_count": 28,
      "metadata": {
        "id": "NTKI9E4v55GH"
      },
      "outputs": [],
      "source": [
        "torch.save(model_new.state_dict(), 'model_new')"
      ]
    },
    {
      "cell_type": "code",
      "execution_count": 29,
      "metadata": {
        "colab": {
          "base_uri": "https://localhost:8080/"
        },
        "id": "8ezhtm6b55GH",
        "outputId": "3c568c25-4bb6-4789-c8a4-efba2e3754b8"
      },
      "outputs": [
        {
          "output_type": "stream",
          "name": "stdout",
          "text": [
            "Testing adversiral attack on simple model created in step-2:\n"
          ]
        },
        {
          "output_type": "stream",
          "name": "stderr",
          "text": [
            "/usr/local/lib/python3.7/dist-packages/ipykernel_launcher.py:25: UserWarning: Implicit dimension choice for log_softmax has been deprecated. Change the call to include dim=X as an argument.\n"
          ]
        },
        {
          "output_type": "stream",
          "name": "stdout",
          "text": [
            "Epsilon: 0\t Experiment data Accuracy = 9218 / 10000 = 0.9218\n",
            "Epsilon: 0.05\t Experiment data Accuracy = 8953 / 10000 = 0.8953\n",
            "Epsilon: 0.15\t Experiment data Accuracy = 7116 / 10000 = 0.7116\n",
            "Epsilon: 0.25\t Experiment data Accuracy = 3527 / 10000 = 0.3527\n",
            "Testing adversiral attack on model trained with feature maps:\n",
            "Epsilon: 0\t Experiment data Accuracy = 9072 / 10000 = 0.9072\n",
            "Epsilon: 0.05\t Experiment data Accuracy = 8758 / 10000 = 0.8758\n",
            "Epsilon: 0.15\t Experiment data Accuracy = 6678 / 10000 = 0.6678\n",
            "Epsilon: 0.25\t Experiment data Accuracy = 3879 / 10000 = 0.3879\n"
          ]
        }
      ],
      "source": [
        "model.load_state_dict(torch.load('model_orignal'))\n",
        "\n",
        "print(\"Testing adversiral attack on simple model created in step-2:\")\n",
        "fooled_examples = []\n",
        "for eps in epsilons:\n",
        "    ex = get_adversarial_images(model,model,experiment_loader, eps,False)\n",
        "    fooled_examples.append(ex)\n",
        "\n",
        "print(\"Testing adversiral attack on model trained with feature maps:\")\n",
        "fooled_examples = []\n",
        "for eps in epsilons:\n",
        "    ex = get_adversarial_images(model,model,experiment_loader, eps,True)\n",
        "    fooled_examples.append(ex)"
      ]
    },
    {
      "cell_type": "code",
      "source": [
        ""
      ],
      "metadata": {
        "id": "uAG5t434AptO"
      },
      "execution_count": 29,
      "outputs": []
    }
  ],
  "metadata": {
    "kernelspec": {
      "display_name": "Python 3 (ipykernel)",
      "language": "python",
      "name": "python3"
    },
    "language_info": {
      "codemirror_mode": {
        "name": "ipython",
        "version": 3
      },
      "file_extension": ".py",
      "mimetype": "text/x-python",
      "name": "python",
      "nbconvert_exporter": "python",
      "pygments_lexer": "ipython3",
      "version": "3.9.10"
    },
    "colab": {
      "name": "Assignment1-Step2-B00899705_Final.ipynb",
      "provenance": [],
      "collapsed_sections": [
        "SLj4xMnWCv16"
      ]
    },
    "widgets": {
      "application/vnd.jupyter.widget-state+json": {
        "5ba9bf581c7b4f80a942afe85fff1f6d": {
          "model_module": "@jupyter-widgets/controls",
          "model_name": "HBoxModel",
          "model_module_version": "1.5.0",
          "state": {
            "_dom_classes": [],
            "_model_module": "@jupyter-widgets/controls",
            "_model_module_version": "1.5.0",
            "_model_name": "HBoxModel",
            "_view_count": null,
            "_view_module": "@jupyter-widgets/controls",
            "_view_module_version": "1.5.0",
            "_view_name": "HBoxView",
            "box_style": "",
            "children": [
              "IPY_MODEL_e813d55d0053451c816f71843e47f98e",
              "IPY_MODEL_23fee21d0df24a2c8af97f7a89d69edd",
              "IPY_MODEL_0ce1910308f840f9b1ea2d70f76371d6"
            ],
            "layout": "IPY_MODEL_99b1f011fb8b4e47a6b0f2233b4da74d"
          }
        },
        "e813d55d0053451c816f71843e47f98e": {
          "model_module": "@jupyter-widgets/controls",
          "model_name": "HTMLModel",
          "model_module_version": "1.5.0",
          "state": {
            "_dom_classes": [],
            "_model_module": "@jupyter-widgets/controls",
            "_model_module_version": "1.5.0",
            "_model_name": "HTMLModel",
            "_view_count": null,
            "_view_module": "@jupyter-widgets/controls",
            "_view_module_version": "1.5.0",
            "_view_name": "HTMLView",
            "description": "",
            "description_tooltip": null,
            "layout": "IPY_MODEL_87bc7efeb4084c08b80e689e12f48c35",
            "placeholder": "​",
            "style": "IPY_MODEL_270416b6c34f44b1b851d78af12c1729",
            "value": ""
          }
        },
        "23fee21d0df24a2c8af97f7a89d69edd": {
          "model_module": "@jupyter-widgets/controls",
          "model_name": "FloatProgressModel",
          "model_module_version": "1.5.0",
          "state": {
            "_dom_classes": [],
            "_model_module": "@jupyter-widgets/controls",
            "_model_module_version": "1.5.0",
            "_model_name": "FloatProgressModel",
            "_view_count": null,
            "_view_module": "@jupyter-widgets/controls",
            "_view_module_version": "1.5.0",
            "_view_name": "ProgressView",
            "bar_style": "success",
            "description": "",
            "description_tooltip": null,
            "layout": "IPY_MODEL_5bbc91e9fc744f9e9a1b48f5867ccdd8",
            "max": 9912422,
            "min": 0,
            "orientation": "horizontal",
            "style": "IPY_MODEL_b88711e41b1748b2b766f276e10cf6af",
            "value": 9912422
          }
        },
        "0ce1910308f840f9b1ea2d70f76371d6": {
          "model_module": "@jupyter-widgets/controls",
          "model_name": "HTMLModel",
          "model_module_version": "1.5.0",
          "state": {
            "_dom_classes": [],
            "_model_module": "@jupyter-widgets/controls",
            "_model_module_version": "1.5.0",
            "_model_name": "HTMLModel",
            "_view_count": null,
            "_view_module": "@jupyter-widgets/controls",
            "_view_module_version": "1.5.0",
            "_view_name": "HTMLView",
            "description": "",
            "description_tooltip": null,
            "layout": "IPY_MODEL_869fe3ce8f1f424289f7afe73ebb926d",
            "placeholder": "​",
            "style": "IPY_MODEL_7d7a7549cb054739b4e150ca2e72e552",
            "value": " 9913344/? [00:00&lt;00:00, 22901657.39it/s]"
          }
        },
        "99b1f011fb8b4e47a6b0f2233b4da74d": {
          "model_module": "@jupyter-widgets/base",
          "model_name": "LayoutModel",
          "model_module_version": "1.2.0",
          "state": {
            "_model_module": "@jupyter-widgets/base",
            "_model_module_version": "1.2.0",
            "_model_name": "LayoutModel",
            "_view_count": null,
            "_view_module": "@jupyter-widgets/base",
            "_view_module_version": "1.2.0",
            "_view_name": "LayoutView",
            "align_content": null,
            "align_items": null,
            "align_self": null,
            "border": null,
            "bottom": null,
            "display": null,
            "flex": null,
            "flex_flow": null,
            "grid_area": null,
            "grid_auto_columns": null,
            "grid_auto_flow": null,
            "grid_auto_rows": null,
            "grid_column": null,
            "grid_gap": null,
            "grid_row": null,
            "grid_template_areas": null,
            "grid_template_columns": null,
            "grid_template_rows": null,
            "height": null,
            "justify_content": null,
            "justify_items": null,
            "left": null,
            "margin": null,
            "max_height": null,
            "max_width": null,
            "min_height": null,
            "min_width": null,
            "object_fit": null,
            "object_position": null,
            "order": null,
            "overflow": null,
            "overflow_x": null,
            "overflow_y": null,
            "padding": null,
            "right": null,
            "top": null,
            "visibility": null,
            "width": null
          }
        },
        "87bc7efeb4084c08b80e689e12f48c35": {
          "model_module": "@jupyter-widgets/base",
          "model_name": "LayoutModel",
          "model_module_version": "1.2.0",
          "state": {
            "_model_module": "@jupyter-widgets/base",
            "_model_module_version": "1.2.0",
            "_model_name": "LayoutModel",
            "_view_count": null,
            "_view_module": "@jupyter-widgets/base",
            "_view_module_version": "1.2.0",
            "_view_name": "LayoutView",
            "align_content": null,
            "align_items": null,
            "align_self": null,
            "border": null,
            "bottom": null,
            "display": null,
            "flex": null,
            "flex_flow": null,
            "grid_area": null,
            "grid_auto_columns": null,
            "grid_auto_flow": null,
            "grid_auto_rows": null,
            "grid_column": null,
            "grid_gap": null,
            "grid_row": null,
            "grid_template_areas": null,
            "grid_template_columns": null,
            "grid_template_rows": null,
            "height": null,
            "justify_content": null,
            "justify_items": null,
            "left": null,
            "margin": null,
            "max_height": null,
            "max_width": null,
            "min_height": null,
            "min_width": null,
            "object_fit": null,
            "object_position": null,
            "order": null,
            "overflow": null,
            "overflow_x": null,
            "overflow_y": null,
            "padding": null,
            "right": null,
            "top": null,
            "visibility": null,
            "width": null
          }
        },
        "270416b6c34f44b1b851d78af12c1729": {
          "model_module": "@jupyter-widgets/controls",
          "model_name": "DescriptionStyleModel",
          "model_module_version": "1.5.0",
          "state": {
            "_model_module": "@jupyter-widgets/controls",
            "_model_module_version": "1.5.0",
            "_model_name": "DescriptionStyleModel",
            "_view_count": null,
            "_view_module": "@jupyter-widgets/base",
            "_view_module_version": "1.2.0",
            "_view_name": "StyleView",
            "description_width": ""
          }
        },
        "5bbc91e9fc744f9e9a1b48f5867ccdd8": {
          "model_module": "@jupyter-widgets/base",
          "model_name": "LayoutModel",
          "model_module_version": "1.2.0",
          "state": {
            "_model_module": "@jupyter-widgets/base",
            "_model_module_version": "1.2.0",
            "_model_name": "LayoutModel",
            "_view_count": null,
            "_view_module": "@jupyter-widgets/base",
            "_view_module_version": "1.2.0",
            "_view_name": "LayoutView",
            "align_content": null,
            "align_items": null,
            "align_self": null,
            "border": null,
            "bottom": null,
            "display": null,
            "flex": null,
            "flex_flow": null,
            "grid_area": null,
            "grid_auto_columns": null,
            "grid_auto_flow": null,
            "grid_auto_rows": null,
            "grid_column": null,
            "grid_gap": null,
            "grid_row": null,
            "grid_template_areas": null,
            "grid_template_columns": null,
            "grid_template_rows": null,
            "height": null,
            "justify_content": null,
            "justify_items": null,
            "left": null,
            "margin": null,
            "max_height": null,
            "max_width": null,
            "min_height": null,
            "min_width": null,
            "object_fit": null,
            "object_position": null,
            "order": null,
            "overflow": null,
            "overflow_x": null,
            "overflow_y": null,
            "padding": null,
            "right": null,
            "top": null,
            "visibility": null,
            "width": null
          }
        },
        "b88711e41b1748b2b766f276e10cf6af": {
          "model_module": "@jupyter-widgets/controls",
          "model_name": "ProgressStyleModel",
          "model_module_version": "1.5.0",
          "state": {
            "_model_module": "@jupyter-widgets/controls",
            "_model_module_version": "1.5.0",
            "_model_name": "ProgressStyleModel",
            "_view_count": null,
            "_view_module": "@jupyter-widgets/base",
            "_view_module_version": "1.2.0",
            "_view_name": "StyleView",
            "bar_color": null,
            "description_width": ""
          }
        },
        "869fe3ce8f1f424289f7afe73ebb926d": {
          "model_module": "@jupyter-widgets/base",
          "model_name": "LayoutModel",
          "model_module_version": "1.2.0",
          "state": {
            "_model_module": "@jupyter-widgets/base",
            "_model_module_version": "1.2.0",
            "_model_name": "LayoutModel",
            "_view_count": null,
            "_view_module": "@jupyter-widgets/base",
            "_view_module_version": "1.2.0",
            "_view_name": "LayoutView",
            "align_content": null,
            "align_items": null,
            "align_self": null,
            "border": null,
            "bottom": null,
            "display": null,
            "flex": null,
            "flex_flow": null,
            "grid_area": null,
            "grid_auto_columns": null,
            "grid_auto_flow": null,
            "grid_auto_rows": null,
            "grid_column": null,
            "grid_gap": null,
            "grid_row": null,
            "grid_template_areas": null,
            "grid_template_columns": null,
            "grid_template_rows": null,
            "height": null,
            "justify_content": null,
            "justify_items": null,
            "left": null,
            "margin": null,
            "max_height": null,
            "max_width": null,
            "min_height": null,
            "min_width": null,
            "object_fit": null,
            "object_position": null,
            "order": null,
            "overflow": null,
            "overflow_x": null,
            "overflow_y": null,
            "padding": null,
            "right": null,
            "top": null,
            "visibility": null,
            "width": null
          }
        },
        "7d7a7549cb054739b4e150ca2e72e552": {
          "model_module": "@jupyter-widgets/controls",
          "model_name": "DescriptionStyleModel",
          "model_module_version": "1.5.0",
          "state": {
            "_model_module": "@jupyter-widgets/controls",
            "_model_module_version": "1.5.0",
            "_model_name": "DescriptionStyleModel",
            "_view_count": null,
            "_view_module": "@jupyter-widgets/base",
            "_view_module_version": "1.2.0",
            "_view_name": "StyleView",
            "description_width": ""
          }
        },
        "cdc01c944418492a8d5817dbbe339711": {
          "model_module": "@jupyter-widgets/controls",
          "model_name": "HBoxModel",
          "model_module_version": "1.5.0",
          "state": {
            "_dom_classes": [],
            "_model_module": "@jupyter-widgets/controls",
            "_model_module_version": "1.5.0",
            "_model_name": "HBoxModel",
            "_view_count": null,
            "_view_module": "@jupyter-widgets/controls",
            "_view_module_version": "1.5.0",
            "_view_name": "HBoxView",
            "box_style": "",
            "children": [
              "IPY_MODEL_e02115ed6e814bb79c29aa850ed39a76",
              "IPY_MODEL_8d3d6d5c6d784d00a337942c9dafa762",
              "IPY_MODEL_53d1902ff0234b2191eb077a11b51ea8"
            ],
            "layout": "IPY_MODEL_862412bd69f14e9e92ec06925b596c74"
          }
        },
        "e02115ed6e814bb79c29aa850ed39a76": {
          "model_module": "@jupyter-widgets/controls",
          "model_name": "HTMLModel",
          "model_module_version": "1.5.0",
          "state": {
            "_dom_classes": [],
            "_model_module": "@jupyter-widgets/controls",
            "_model_module_version": "1.5.0",
            "_model_name": "HTMLModel",
            "_view_count": null,
            "_view_module": "@jupyter-widgets/controls",
            "_view_module_version": "1.5.0",
            "_view_name": "HTMLView",
            "description": "",
            "description_tooltip": null,
            "layout": "IPY_MODEL_1ca22893556040609129bba50a602be9",
            "placeholder": "​",
            "style": "IPY_MODEL_0e0899c9d636472096299b940cf53693",
            "value": ""
          }
        },
        "8d3d6d5c6d784d00a337942c9dafa762": {
          "model_module": "@jupyter-widgets/controls",
          "model_name": "FloatProgressModel",
          "model_module_version": "1.5.0",
          "state": {
            "_dom_classes": [],
            "_model_module": "@jupyter-widgets/controls",
            "_model_module_version": "1.5.0",
            "_model_name": "FloatProgressModel",
            "_view_count": null,
            "_view_module": "@jupyter-widgets/controls",
            "_view_module_version": "1.5.0",
            "_view_name": "ProgressView",
            "bar_style": "success",
            "description": "",
            "description_tooltip": null,
            "layout": "IPY_MODEL_f5c863ce50ec49348006f6115e07f662",
            "max": 28881,
            "min": 0,
            "orientation": "horizontal",
            "style": "IPY_MODEL_9aeb39989f654da68ba31ca7909c039d",
            "value": 28881
          }
        },
        "53d1902ff0234b2191eb077a11b51ea8": {
          "model_module": "@jupyter-widgets/controls",
          "model_name": "HTMLModel",
          "model_module_version": "1.5.0",
          "state": {
            "_dom_classes": [],
            "_model_module": "@jupyter-widgets/controls",
            "_model_module_version": "1.5.0",
            "_model_name": "HTMLModel",
            "_view_count": null,
            "_view_module": "@jupyter-widgets/controls",
            "_view_module_version": "1.5.0",
            "_view_name": "HTMLView",
            "description": "",
            "description_tooltip": null,
            "layout": "IPY_MODEL_b82d89b5b1204725918e3a3e78d7d66b",
            "placeholder": "​",
            "style": "IPY_MODEL_ef275d51f3bb44e3a5d1e445f90d32ed",
            "value": " 29696/? [00:00&lt;00:00, 319218.76it/s]"
          }
        },
        "862412bd69f14e9e92ec06925b596c74": {
          "model_module": "@jupyter-widgets/base",
          "model_name": "LayoutModel",
          "model_module_version": "1.2.0",
          "state": {
            "_model_module": "@jupyter-widgets/base",
            "_model_module_version": "1.2.0",
            "_model_name": "LayoutModel",
            "_view_count": null,
            "_view_module": "@jupyter-widgets/base",
            "_view_module_version": "1.2.0",
            "_view_name": "LayoutView",
            "align_content": null,
            "align_items": null,
            "align_self": null,
            "border": null,
            "bottom": null,
            "display": null,
            "flex": null,
            "flex_flow": null,
            "grid_area": null,
            "grid_auto_columns": null,
            "grid_auto_flow": null,
            "grid_auto_rows": null,
            "grid_column": null,
            "grid_gap": null,
            "grid_row": null,
            "grid_template_areas": null,
            "grid_template_columns": null,
            "grid_template_rows": null,
            "height": null,
            "justify_content": null,
            "justify_items": null,
            "left": null,
            "margin": null,
            "max_height": null,
            "max_width": null,
            "min_height": null,
            "min_width": null,
            "object_fit": null,
            "object_position": null,
            "order": null,
            "overflow": null,
            "overflow_x": null,
            "overflow_y": null,
            "padding": null,
            "right": null,
            "top": null,
            "visibility": null,
            "width": null
          }
        },
        "1ca22893556040609129bba50a602be9": {
          "model_module": "@jupyter-widgets/base",
          "model_name": "LayoutModel",
          "model_module_version": "1.2.0",
          "state": {
            "_model_module": "@jupyter-widgets/base",
            "_model_module_version": "1.2.0",
            "_model_name": "LayoutModel",
            "_view_count": null,
            "_view_module": "@jupyter-widgets/base",
            "_view_module_version": "1.2.0",
            "_view_name": "LayoutView",
            "align_content": null,
            "align_items": null,
            "align_self": null,
            "border": null,
            "bottom": null,
            "display": null,
            "flex": null,
            "flex_flow": null,
            "grid_area": null,
            "grid_auto_columns": null,
            "grid_auto_flow": null,
            "grid_auto_rows": null,
            "grid_column": null,
            "grid_gap": null,
            "grid_row": null,
            "grid_template_areas": null,
            "grid_template_columns": null,
            "grid_template_rows": null,
            "height": null,
            "justify_content": null,
            "justify_items": null,
            "left": null,
            "margin": null,
            "max_height": null,
            "max_width": null,
            "min_height": null,
            "min_width": null,
            "object_fit": null,
            "object_position": null,
            "order": null,
            "overflow": null,
            "overflow_x": null,
            "overflow_y": null,
            "padding": null,
            "right": null,
            "top": null,
            "visibility": null,
            "width": null
          }
        },
        "0e0899c9d636472096299b940cf53693": {
          "model_module": "@jupyter-widgets/controls",
          "model_name": "DescriptionStyleModel",
          "model_module_version": "1.5.0",
          "state": {
            "_model_module": "@jupyter-widgets/controls",
            "_model_module_version": "1.5.0",
            "_model_name": "DescriptionStyleModel",
            "_view_count": null,
            "_view_module": "@jupyter-widgets/base",
            "_view_module_version": "1.2.0",
            "_view_name": "StyleView",
            "description_width": ""
          }
        },
        "f5c863ce50ec49348006f6115e07f662": {
          "model_module": "@jupyter-widgets/base",
          "model_name": "LayoutModel",
          "model_module_version": "1.2.0",
          "state": {
            "_model_module": "@jupyter-widgets/base",
            "_model_module_version": "1.2.0",
            "_model_name": "LayoutModel",
            "_view_count": null,
            "_view_module": "@jupyter-widgets/base",
            "_view_module_version": "1.2.0",
            "_view_name": "LayoutView",
            "align_content": null,
            "align_items": null,
            "align_self": null,
            "border": null,
            "bottom": null,
            "display": null,
            "flex": null,
            "flex_flow": null,
            "grid_area": null,
            "grid_auto_columns": null,
            "grid_auto_flow": null,
            "grid_auto_rows": null,
            "grid_column": null,
            "grid_gap": null,
            "grid_row": null,
            "grid_template_areas": null,
            "grid_template_columns": null,
            "grid_template_rows": null,
            "height": null,
            "justify_content": null,
            "justify_items": null,
            "left": null,
            "margin": null,
            "max_height": null,
            "max_width": null,
            "min_height": null,
            "min_width": null,
            "object_fit": null,
            "object_position": null,
            "order": null,
            "overflow": null,
            "overflow_x": null,
            "overflow_y": null,
            "padding": null,
            "right": null,
            "top": null,
            "visibility": null,
            "width": null
          }
        },
        "9aeb39989f654da68ba31ca7909c039d": {
          "model_module": "@jupyter-widgets/controls",
          "model_name": "ProgressStyleModel",
          "model_module_version": "1.5.0",
          "state": {
            "_model_module": "@jupyter-widgets/controls",
            "_model_module_version": "1.5.0",
            "_model_name": "ProgressStyleModel",
            "_view_count": null,
            "_view_module": "@jupyter-widgets/base",
            "_view_module_version": "1.2.0",
            "_view_name": "StyleView",
            "bar_color": null,
            "description_width": ""
          }
        },
        "b82d89b5b1204725918e3a3e78d7d66b": {
          "model_module": "@jupyter-widgets/base",
          "model_name": "LayoutModel",
          "model_module_version": "1.2.0",
          "state": {
            "_model_module": "@jupyter-widgets/base",
            "_model_module_version": "1.2.0",
            "_model_name": "LayoutModel",
            "_view_count": null,
            "_view_module": "@jupyter-widgets/base",
            "_view_module_version": "1.2.0",
            "_view_name": "LayoutView",
            "align_content": null,
            "align_items": null,
            "align_self": null,
            "border": null,
            "bottom": null,
            "display": null,
            "flex": null,
            "flex_flow": null,
            "grid_area": null,
            "grid_auto_columns": null,
            "grid_auto_flow": null,
            "grid_auto_rows": null,
            "grid_column": null,
            "grid_gap": null,
            "grid_row": null,
            "grid_template_areas": null,
            "grid_template_columns": null,
            "grid_template_rows": null,
            "height": null,
            "justify_content": null,
            "justify_items": null,
            "left": null,
            "margin": null,
            "max_height": null,
            "max_width": null,
            "min_height": null,
            "min_width": null,
            "object_fit": null,
            "object_position": null,
            "order": null,
            "overflow": null,
            "overflow_x": null,
            "overflow_y": null,
            "padding": null,
            "right": null,
            "top": null,
            "visibility": null,
            "width": null
          }
        },
        "ef275d51f3bb44e3a5d1e445f90d32ed": {
          "model_module": "@jupyter-widgets/controls",
          "model_name": "DescriptionStyleModel",
          "model_module_version": "1.5.0",
          "state": {
            "_model_module": "@jupyter-widgets/controls",
            "_model_module_version": "1.5.0",
            "_model_name": "DescriptionStyleModel",
            "_view_count": null,
            "_view_module": "@jupyter-widgets/base",
            "_view_module_version": "1.2.0",
            "_view_name": "StyleView",
            "description_width": ""
          }
        },
        "9fc5dc0e3ffc43eb90b70f1145902784": {
          "model_module": "@jupyter-widgets/controls",
          "model_name": "HBoxModel",
          "model_module_version": "1.5.0",
          "state": {
            "_dom_classes": [],
            "_model_module": "@jupyter-widgets/controls",
            "_model_module_version": "1.5.0",
            "_model_name": "HBoxModel",
            "_view_count": null,
            "_view_module": "@jupyter-widgets/controls",
            "_view_module_version": "1.5.0",
            "_view_name": "HBoxView",
            "box_style": "",
            "children": [
              "IPY_MODEL_ac19747f94cb4a099ff37623af6f9b20",
              "IPY_MODEL_0111049446e14fa484288d409f2b5f77",
              "IPY_MODEL_91243653750f4fa08cd0112eb1d2d0c5"
            ],
            "layout": "IPY_MODEL_0d23d36d155544c5bc4a957e84f9f00f"
          }
        },
        "ac19747f94cb4a099ff37623af6f9b20": {
          "model_module": "@jupyter-widgets/controls",
          "model_name": "HTMLModel",
          "model_module_version": "1.5.0",
          "state": {
            "_dom_classes": [],
            "_model_module": "@jupyter-widgets/controls",
            "_model_module_version": "1.5.0",
            "_model_name": "HTMLModel",
            "_view_count": null,
            "_view_module": "@jupyter-widgets/controls",
            "_view_module_version": "1.5.0",
            "_view_name": "HTMLView",
            "description": "",
            "description_tooltip": null,
            "layout": "IPY_MODEL_20b4c4cb0ed5446889ffbc9dca62e44d",
            "placeholder": "​",
            "style": "IPY_MODEL_dbc1b2c0334a4117ac578349c9c632c0",
            "value": ""
          }
        },
        "0111049446e14fa484288d409f2b5f77": {
          "model_module": "@jupyter-widgets/controls",
          "model_name": "FloatProgressModel",
          "model_module_version": "1.5.0",
          "state": {
            "_dom_classes": [],
            "_model_module": "@jupyter-widgets/controls",
            "_model_module_version": "1.5.0",
            "_model_name": "FloatProgressModel",
            "_view_count": null,
            "_view_module": "@jupyter-widgets/controls",
            "_view_module_version": "1.5.0",
            "_view_name": "ProgressView",
            "bar_style": "success",
            "description": "",
            "description_tooltip": null,
            "layout": "IPY_MODEL_dae53d1fde454f51b27ea86030b3d6d4",
            "max": 1648877,
            "min": 0,
            "orientation": "horizontal",
            "style": "IPY_MODEL_91a869fb3f604d6e84f8dc45ec28c288",
            "value": 1648877
          }
        },
        "91243653750f4fa08cd0112eb1d2d0c5": {
          "model_module": "@jupyter-widgets/controls",
          "model_name": "HTMLModel",
          "model_module_version": "1.5.0",
          "state": {
            "_dom_classes": [],
            "_model_module": "@jupyter-widgets/controls",
            "_model_module_version": "1.5.0",
            "_model_name": "HTMLModel",
            "_view_count": null,
            "_view_module": "@jupyter-widgets/controls",
            "_view_module_version": "1.5.0",
            "_view_name": "HTMLView",
            "description": "",
            "description_tooltip": null,
            "layout": "IPY_MODEL_064b80277e4b4a8bb26884595a97b3ce",
            "placeholder": "​",
            "style": "IPY_MODEL_563caaa06fb94ded95e91fc5f52ec753",
            "value": " 1649664/? [00:00&lt;00:00, 2057126.39it/s]"
          }
        },
        "0d23d36d155544c5bc4a957e84f9f00f": {
          "model_module": "@jupyter-widgets/base",
          "model_name": "LayoutModel",
          "model_module_version": "1.2.0",
          "state": {
            "_model_module": "@jupyter-widgets/base",
            "_model_module_version": "1.2.0",
            "_model_name": "LayoutModel",
            "_view_count": null,
            "_view_module": "@jupyter-widgets/base",
            "_view_module_version": "1.2.0",
            "_view_name": "LayoutView",
            "align_content": null,
            "align_items": null,
            "align_self": null,
            "border": null,
            "bottom": null,
            "display": null,
            "flex": null,
            "flex_flow": null,
            "grid_area": null,
            "grid_auto_columns": null,
            "grid_auto_flow": null,
            "grid_auto_rows": null,
            "grid_column": null,
            "grid_gap": null,
            "grid_row": null,
            "grid_template_areas": null,
            "grid_template_columns": null,
            "grid_template_rows": null,
            "height": null,
            "justify_content": null,
            "justify_items": null,
            "left": null,
            "margin": null,
            "max_height": null,
            "max_width": null,
            "min_height": null,
            "min_width": null,
            "object_fit": null,
            "object_position": null,
            "order": null,
            "overflow": null,
            "overflow_x": null,
            "overflow_y": null,
            "padding": null,
            "right": null,
            "top": null,
            "visibility": null,
            "width": null
          }
        },
        "20b4c4cb0ed5446889ffbc9dca62e44d": {
          "model_module": "@jupyter-widgets/base",
          "model_name": "LayoutModel",
          "model_module_version": "1.2.0",
          "state": {
            "_model_module": "@jupyter-widgets/base",
            "_model_module_version": "1.2.0",
            "_model_name": "LayoutModel",
            "_view_count": null,
            "_view_module": "@jupyter-widgets/base",
            "_view_module_version": "1.2.0",
            "_view_name": "LayoutView",
            "align_content": null,
            "align_items": null,
            "align_self": null,
            "border": null,
            "bottom": null,
            "display": null,
            "flex": null,
            "flex_flow": null,
            "grid_area": null,
            "grid_auto_columns": null,
            "grid_auto_flow": null,
            "grid_auto_rows": null,
            "grid_column": null,
            "grid_gap": null,
            "grid_row": null,
            "grid_template_areas": null,
            "grid_template_columns": null,
            "grid_template_rows": null,
            "height": null,
            "justify_content": null,
            "justify_items": null,
            "left": null,
            "margin": null,
            "max_height": null,
            "max_width": null,
            "min_height": null,
            "min_width": null,
            "object_fit": null,
            "object_position": null,
            "order": null,
            "overflow": null,
            "overflow_x": null,
            "overflow_y": null,
            "padding": null,
            "right": null,
            "top": null,
            "visibility": null,
            "width": null
          }
        },
        "dbc1b2c0334a4117ac578349c9c632c0": {
          "model_module": "@jupyter-widgets/controls",
          "model_name": "DescriptionStyleModel",
          "model_module_version": "1.5.0",
          "state": {
            "_model_module": "@jupyter-widgets/controls",
            "_model_module_version": "1.5.0",
            "_model_name": "DescriptionStyleModel",
            "_view_count": null,
            "_view_module": "@jupyter-widgets/base",
            "_view_module_version": "1.2.0",
            "_view_name": "StyleView",
            "description_width": ""
          }
        },
        "dae53d1fde454f51b27ea86030b3d6d4": {
          "model_module": "@jupyter-widgets/base",
          "model_name": "LayoutModel",
          "model_module_version": "1.2.0",
          "state": {
            "_model_module": "@jupyter-widgets/base",
            "_model_module_version": "1.2.0",
            "_model_name": "LayoutModel",
            "_view_count": null,
            "_view_module": "@jupyter-widgets/base",
            "_view_module_version": "1.2.0",
            "_view_name": "LayoutView",
            "align_content": null,
            "align_items": null,
            "align_self": null,
            "border": null,
            "bottom": null,
            "display": null,
            "flex": null,
            "flex_flow": null,
            "grid_area": null,
            "grid_auto_columns": null,
            "grid_auto_flow": null,
            "grid_auto_rows": null,
            "grid_column": null,
            "grid_gap": null,
            "grid_row": null,
            "grid_template_areas": null,
            "grid_template_columns": null,
            "grid_template_rows": null,
            "height": null,
            "justify_content": null,
            "justify_items": null,
            "left": null,
            "margin": null,
            "max_height": null,
            "max_width": null,
            "min_height": null,
            "min_width": null,
            "object_fit": null,
            "object_position": null,
            "order": null,
            "overflow": null,
            "overflow_x": null,
            "overflow_y": null,
            "padding": null,
            "right": null,
            "top": null,
            "visibility": null,
            "width": null
          }
        },
        "91a869fb3f604d6e84f8dc45ec28c288": {
          "model_module": "@jupyter-widgets/controls",
          "model_name": "ProgressStyleModel",
          "model_module_version": "1.5.0",
          "state": {
            "_model_module": "@jupyter-widgets/controls",
            "_model_module_version": "1.5.0",
            "_model_name": "ProgressStyleModel",
            "_view_count": null,
            "_view_module": "@jupyter-widgets/base",
            "_view_module_version": "1.2.0",
            "_view_name": "StyleView",
            "bar_color": null,
            "description_width": ""
          }
        },
        "064b80277e4b4a8bb26884595a97b3ce": {
          "model_module": "@jupyter-widgets/base",
          "model_name": "LayoutModel",
          "model_module_version": "1.2.0",
          "state": {
            "_model_module": "@jupyter-widgets/base",
            "_model_module_version": "1.2.0",
            "_model_name": "LayoutModel",
            "_view_count": null,
            "_view_module": "@jupyter-widgets/base",
            "_view_module_version": "1.2.0",
            "_view_name": "LayoutView",
            "align_content": null,
            "align_items": null,
            "align_self": null,
            "border": null,
            "bottom": null,
            "display": null,
            "flex": null,
            "flex_flow": null,
            "grid_area": null,
            "grid_auto_columns": null,
            "grid_auto_flow": null,
            "grid_auto_rows": null,
            "grid_column": null,
            "grid_gap": null,
            "grid_row": null,
            "grid_template_areas": null,
            "grid_template_columns": null,
            "grid_template_rows": null,
            "height": null,
            "justify_content": null,
            "justify_items": null,
            "left": null,
            "margin": null,
            "max_height": null,
            "max_width": null,
            "min_height": null,
            "min_width": null,
            "object_fit": null,
            "object_position": null,
            "order": null,
            "overflow": null,
            "overflow_x": null,
            "overflow_y": null,
            "padding": null,
            "right": null,
            "top": null,
            "visibility": null,
            "width": null
          }
        },
        "563caaa06fb94ded95e91fc5f52ec753": {
          "model_module": "@jupyter-widgets/controls",
          "model_name": "DescriptionStyleModel",
          "model_module_version": "1.5.0",
          "state": {
            "_model_module": "@jupyter-widgets/controls",
            "_model_module_version": "1.5.0",
            "_model_name": "DescriptionStyleModel",
            "_view_count": null,
            "_view_module": "@jupyter-widgets/base",
            "_view_module_version": "1.2.0",
            "_view_name": "StyleView",
            "description_width": ""
          }
        },
        "46fbac81013843d094f7fc97903a8ea4": {
          "model_module": "@jupyter-widgets/controls",
          "model_name": "HBoxModel",
          "model_module_version": "1.5.0",
          "state": {
            "_dom_classes": [],
            "_model_module": "@jupyter-widgets/controls",
            "_model_module_version": "1.5.0",
            "_model_name": "HBoxModel",
            "_view_count": null,
            "_view_module": "@jupyter-widgets/controls",
            "_view_module_version": "1.5.0",
            "_view_name": "HBoxView",
            "box_style": "",
            "children": [
              "IPY_MODEL_ea248332235540bb92946c306c61c489",
              "IPY_MODEL_cbbde145cc3245c6923729f95aecb4a6",
              "IPY_MODEL_8efc57ff95264cb89d34c8d8aba44830"
            ],
            "layout": "IPY_MODEL_256ffd3284cc46ff8e5ece8d300775f6"
          }
        },
        "ea248332235540bb92946c306c61c489": {
          "model_module": "@jupyter-widgets/controls",
          "model_name": "HTMLModel",
          "model_module_version": "1.5.0",
          "state": {
            "_dom_classes": [],
            "_model_module": "@jupyter-widgets/controls",
            "_model_module_version": "1.5.0",
            "_model_name": "HTMLModel",
            "_view_count": null,
            "_view_module": "@jupyter-widgets/controls",
            "_view_module_version": "1.5.0",
            "_view_name": "HTMLView",
            "description": "",
            "description_tooltip": null,
            "layout": "IPY_MODEL_f3e12cb364384ed1ba8b5f3af715fe0f",
            "placeholder": "​",
            "style": "IPY_MODEL_bbe1d00286cc4edcab3105af93034ced",
            "value": ""
          }
        },
        "cbbde145cc3245c6923729f95aecb4a6": {
          "model_module": "@jupyter-widgets/controls",
          "model_name": "FloatProgressModel",
          "model_module_version": "1.5.0",
          "state": {
            "_dom_classes": [],
            "_model_module": "@jupyter-widgets/controls",
            "_model_module_version": "1.5.0",
            "_model_name": "FloatProgressModel",
            "_view_count": null,
            "_view_module": "@jupyter-widgets/controls",
            "_view_module_version": "1.5.0",
            "_view_name": "ProgressView",
            "bar_style": "success",
            "description": "",
            "description_tooltip": null,
            "layout": "IPY_MODEL_87ad1887190a4000b6d8568bdf4ab903",
            "max": 4542,
            "min": 0,
            "orientation": "horizontal",
            "style": "IPY_MODEL_8607f05319b444aeab274e568e43208a",
            "value": 4542
          }
        },
        "8efc57ff95264cb89d34c8d8aba44830": {
          "model_module": "@jupyter-widgets/controls",
          "model_name": "HTMLModel",
          "model_module_version": "1.5.0",
          "state": {
            "_dom_classes": [],
            "_model_module": "@jupyter-widgets/controls",
            "_model_module_version": "1.5.0",
            "_model_name": "HTMLModel",
            "_view_count": null,
            "_view_module": "@jupyter-widgets/controls",
            "_view_module_version": "1.5.0",
            "_view_name": "HTMLView",
            "description": "",
            "description_tooltip": null,
            "layout": "IPY_MODEL_8f7726c1c66143889fe2c9d0ef45942f",
            "placeholder": "​",
            "style": "IPY_MODEL_edfb81bfb6994fc5a9587ae2d50ecf06",
            "value": " 5120/? [00:00&lt;00:00, 9720.00it/s]"
          }
        },
        "256ffd3284cc46ff8e5ece8d300775f6": {
          "model_module": "@jupyter-widgets/base",
          "model_name": "LayoutModel",
          "model_module_version": "1.2.0",
          "state": {
            "_model_module": "@jupyter-widgets/base",
            "_model_module_version": "1.2.0",
            "_model_name": "LayoutModel",
            "_view_count": null,
            "_view_module": "@jupyter-widgets/base",
            "_view_module_version": "1.2.0",
            "_view_name": "LayoutView",
            "align_content": null,
            "align_items": null,
            "align_self": null,
            "border": null,
            "bottom": null,
            "display": null,
            "flex": null,
            "flex_flow": null,
            "grid_area": null,
            "grid_auto_columns": null,
            "grid_auto_flow": null,
            "grid_auto_rows": null,
            "grid_column": null,
            "grid_gap": null,
            "grid_row": null,
            "grid_template_areas": null,
            "grid_template_columns": null,
            "grid_template_rows": null,
            "height": null,
            "justify_content": null,
            "justify_items": null,
            "left": null,
            "margin": null,
            "max_height": null,
            "max_width": null,
            "min_height": null,
            "min_width": null,
            "object_fit": null,
            "object_position": null,
            "order": null,
            "overflow": null,
            "overflow_x": null,
            "overflow_y": null,
            "padding": null,
            "right": null,
            "top": null,
            "visibility": null,
            "width": null
          }
        },
        "f3e12cb364384ed1ba8b5f3af715fe0f": {
          "model_module": "@jupyter-widgets/base",
          "model_name": "LayoutModel",
          "model_module_version": "1.2.0",
          "state": {
            "_model_module": "@jupyter-widgets/base",
            "_model_module_version": "1.2.0",
            "_model_name": "LayoutModel",
            "_view_count": null,
            "_view_module": "@jupyter-widgets/base",
            "_view_module_version": "1.2.0",
            "_view_name": "LayoutView",
            "align_content": null,
            "align_items": null,
            "align_self": null,
            "border": null,
            "bottom": null,
            "display": null,
            "flex": null,
            "flex_flow": null,
            "grid_area": null,
            "grid_auto_columns": null,
            "grid_auto_flow": null,
            "grid_auto_rows": null,
            "grid_column": null,
            "grid_gap": null,
            "grid_row": null,
            "grid_template_areas": null,
            "grid_template_columns": null,
            "grid_template_rows": null,
            "height": null,
            "justify_content": null,
            "justify_items": null,
            "left": null,
            "margin": null,
            "max_height": null,
            "max_width": null,
            "min_height": null,
            "min_width": null,
            "object_fit": null,
            "object_position": null,
            "order": null,
            "overflow": null,
            "overflow_x": null,
            "overflow_y": null,
            "padding": null,
            "right": null,
            "top": null,
            "visibility": null,
            "width": null
          }
        },
        "bbe1d00286cc4edcab3105af93034ced": {
          "model_module": "@jupyter-widgets/controls",
          "model_name": "DescriptionStyleModel",
          "model_module_version": "1.5.0",
          "state": {
            "_model_module": "@jupyter-widgets/controls",
            "_model_module_version": "1.5.0",
            "_model_name": "DescriptionStyleModel",
            "_view_count": null,
            "_view_module": "@jupyter-widgets/base",
            "_view_module_version": "1.2.0",
            "_view_name": "StyleView",
            "description_width": ""
          }
        },
        "87ad1887190a4000b6d8568bdf4ab903": {
          "model_module": "@jupyter-widgets/base",
          "model_name": "LayoutModel",
          "model_module_version": "1.2.0",
          "state": {
            "_model_module": "@jupyter-widgets/base",
            "_model_module_version": "1.2.0",
            "_model_name": "LayoutModel",
            "_view_count": null,
            "_view_module": "@jupyter-widgets/base",
            "_view_module_version": "1.2.0",
            "_view_name": "LayoutView",
            "align_content": null,
            "align_items": null,
            "align_self": null,
            "border": null,
            "bottom": null,
            "display": null,
            "flex": null,
            "flex_flow": null,
            "grid_area": null,
            "grid_auto_columns": null,
            "grid_auto_flow": null,
            "grid_auto_rows": null,
            "grid_column": null,
            "grid_gap": null,
            "grid_row": null,
            "grid_template_areas": null,
            "grid_template_columns": null,
            "grid_template_rows": null,
            "height": null,
            "justify_content": null,
            "justify_items": null,
            "left": null,
            "margin": null,
            "max_height": null,
            "max_width": null,
            "min_height": null,
            "min_width": null,
            "object_fit": null,
            "object_position": null,
            "order": null,
            "overflow": null,
            "overflow_x": null,
            "overflow_y": null,
            "padding": null,
            "right": null,
            "top": null,
            "visibility": null,
            "width": null
          }
        },
        "8607f05319b444aeab274e568e43208a": {
          "model_module": "@jupyter-widgets/controls",
          "model_name": "ProgressStyleModel",
          "model_module_version": "1.5.0",
          "state": {
            "_model_module": "@jupyter-widgets/controls",
            "_model_module_version": "1.5.0",
            "_model_name": "ProgressStyleModel",
            "_view_count": null,
            "_view_module": "@jupyter-widgets/base",
            "_view_module_version": "1.2.0",
            "_view_name": "StyleView",
            "bar_color": null,
            "description_width": ""
          }
        },
        "8f7726c1c66143889fe2c9d0ef45942f": {
          "model_module": "@jupyter-widgets/base",
          "model_name": "LayoutModel",
          "model_module_version": "1.2.0",
          "state": {
            "_model_module": "@jupyter-widgets/base",
            "_model_module_version": "1.2.0",
            "_model_name": "LayoutModel",
            "_view_count": null,
            "_view_module": "@jupyter-widgets/base",
            "_view_module_version": "1.2.0",
            "_view_name": "LayoutView",
            "align_content": null,
            "align_items": null,
            "align_self": null,
            "border": null,
            "bottom": null,
            "display": null,
            "flex": null,
            "flex_flow": null,
            "grid_area": null,
            "grid_auto_columns": null,
            "grid_auto_flow": null,
            "grid_auto_rows": null,
            "grid_column": null,
            "grid_gap": null,
            "grid_row": null,
            "grid_template_areas": null,
            "grid_template_columns": null,
            "grid_template_rows": null,
            "height": null,
            "justify_content": null,
            "justify_items": null,
            "left": null,
            "margin": null,
            "max_height": null,
            "max_width": null,
            "min_height": null,
            "min_width": null,
            "object_fit": null,
            "object_position": null,
            "order": null,
            "overflow": null,
            "overflow_x": null,
            "overflow_y": null,
            "padding": null,
            "right": null,
            "top": null,
            "visibility": null,
            "width": null
          }
        },
        "edfb81bfb6994fc5a9587ae2d50ecf06": {
          "model_module": "@jupyter-widgets/controls",
          "model_name": "DescriptionStyleModel",
          "model_module_version": "1.5.0",
          "state": {
            "_model_module": "@jupyter-widgets/controls",
            "_model_module_version": "1.5.0",
            "_model_name": "DescriptionStyleModel",
            "_view_count": null,
            "_view_module": "@jupyter-widgets/base",
            "_view_module_version": "1.2.0",
            "_view_name": "StyleView",
            "description_width": ""
          }
        }
      }
    }
  },
  "nbformat": 4,
  "nbformat_minor": 0
}